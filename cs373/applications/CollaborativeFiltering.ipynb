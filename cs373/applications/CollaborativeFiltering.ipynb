{
 "cells": [
  {
   "cell_type": "markdown",
   "id": "4ebdc89f-c641-4838-8272-04b1bd746ff4",
   "metadata": {},
   "source": [
    "## Building a Recommendation Engine using Collaborative Filtering"
   ]
  },
  {
   "cell_type": "markdown",
   "id": "39b50c42-288b-44db-9fc8-894d17665ee2",
   "metadata": {},
   "source": [
    "This practice is based on this source: https://realpython.com/build-recommendation-engine-collaborative-filtering/"
   ]
  },
  {
   "cell_type": "markdown",
   "id": "c86c32e9-1f8b-450f-8080-aacfaaed6e2e",
   "metadata": {},
   "source": [
    "### Memory based"
   ]
  },
  {
   "cell_type": "markdown",
   "id": "c9a65a84-b1c0-46f1-a6b0-be75437fd413",
   "metadata": {},
   "source": [
    "Memory based algorithms are based on statistical techniques."
   ]
  },
  {
   "cell_type": "markdown",
   "id": "9cbb35e0-b292-4bd6-9077-59448545a959",
   "metadata": {},
   "source": [
    "#### 1. Find similar users on the basis of ratings"
   ]
  },
  {
   "cell_type": "code",
   "execution_count": 2,
   "id": "4ac34135-857f-4b6c-bd67-b61c09564dfa",
   "metadata": {},
   "outputs": [
    {
     "name": "stdout",
     "output_type": "stream",
     "text": [
      "2.5\n",
      "0.5\n",
      "2.23606797749979\n"
     ]
    }
   ],
   "source": [
    "from scipy import spatial\n",
    "a = [1, 2]\n",
    "b = [2, 4]\n",
    "c = [2.5, 4]\n",
    "d = [4.5, 5]\n",
    "\n",
    "# the euclidean distance between two points \n",
    "# is used to asses the similarity of rankings\n",
    "print(spatial.distance.euclidean(c,a))\n",
    "print(spatial.distance.euclidean(c,b))\n",
    "print(spatial.distance.euclidean(c,d))"
   ]
  },
  {
   "cell_type": "code",
   "execution_count": 5,
   "id": "0433ec3f-caa6-463f-9404-09744882083e",
   "metadata": {},
   "outputs": [
    {
     "name": "stdout",
     "output_type": "stream",
     "text": [
      "0.004504527406047898\n",
      "0.004504527406047898\n",
      "0.015137225946083022\n",
      "0.0\n"
     ]
    }
   ],
   "source": [
    "# using the cosine to find another perspective on similarity\n",
    "# the lower the value, the greater the similarity\n",
    "print(spatial.distance.cosine(c,a))\n",
    "print(spatial.distance.cosine(c,b))\n",
    "print(spatial.distance.cosine(c,d))\n",
    "print(spatial.distance.cosine(a,b))"
   ]
  },
  {
   "cell_type": "markdown",
   "id": "814ab104-2488-4a96-89f4-993a8714b552",
   "metadata": {},
   "source": [
    "More information about cosine similarity: https://en.wikipedia.org/wiki/Cosine_similarity"
   ]
  },
  {
   "cell_type": "markdown",
   "id": "420423aa-667f-471a-92bd-aacce60b4742",
   "metadata": {},
   "source": [
    "<b>Note</b>: Euclidean distance and cosine similarity are some of the approaches to find users similar to one another and even items similar to one another."
   ]
  },
  {
   "cell_type": "markdown",
   "id": "1e576a01-3275-450c-9ac9-b8da3ff54436",
   "metadata": {},
   "source": [
    "#### 2. Calculate the ratings"
   ]
  },
  {
   "cell_type": "markdown",
   "id": "9a0a6cad-affb-4ed6-b345-ebe8b6957372",
   "metadata": {},
   "source": [
    "Once you found a set of users similar to a user <b>U</b>, the next step is to calculate the rating <b>R</b> that <b>U</b> would give to a certain item <b>I</b>."
   ]
  },
  {
   "cell_type": "markdown",
   "id": "5e5b0f46-ffbc-4ba8-a607-fbad8eaa1d25",
   "metadata": {},
   "source": [
    "One way is to average the rating of the top n most similar users to <b>U</b>. Another is to assign a weight to these top n most similar users because a few of them will be much more similar to <b>U</b> than the rest, in this case a weighted average might help. Using this second approach, the weight (or similarity factor) should be the inverse of the distance discussed in the last step (i.e. let d be the distance between points A and B, 1/d is the similarity factor, thus 1/10 < 1/3). In other words, less distance means higher similarity."
   ]
  },
  {
   "cell_type": "code",
   "execution_count": null,
   "id": "d518b365-36c5-4b38-91bf-a04a28cabb5c",
   "metadata": {},
   "outputs": [],
   "source": []
  }
 ],
 "metadata": {
  "kernelspec": {
   "display_name": "Python 3",
   "language": "python",
   "name": "python3"
  },
  "language_info": {
   "codemirror_mode": {
    "name": "ipython",
    "version": 3
   },
   "file_extension": ".py",
   "mimetype": "text/x-python",
   "name": "python",
   "nbconvert_exporter": "python",
   "pygments_lexer": "ipython3",
   "version": "3.7.7"
  }
 },
 "nbformat": 4,
 "nbformat_minor": 5
}
