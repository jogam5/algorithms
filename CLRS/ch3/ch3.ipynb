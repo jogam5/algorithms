{
 "cells": [
  {
   "cell_type": "markdown",
   "id": "7c9ca6d2-51a0-4a16-9d09-7e7e73d61014",
   "metadata": {},
   "source": [
    "#### 3.1-1. Let f(n) and g(n) be asymptotically nonnegative functions. Unsing the basic definition of Theta(n) notation, prove that max(f(n), g(n)) = Theta( f(n) + g(n) )."
   ]
  },
  {
   "cell_type": "markdown",
   "id": "73c0e747-6f3a-4b23-bf15-f14365afd4e5",
   "metadata": {},
   "source": [
    "**Answer (my own reasoning):**\n",
    "\n",
    "Assumptions: f(n) = n^3, g(n) = n^2 + n + 1.\n",
    "\n",
    "f(n) will dominate g(n) as n tends to infinity, therefore max( f(n), g(n) ) = Theta( f(n) + g(n) ) or n^3 = Theta( f(n) + g(n) )."
   ]
  },
  {
   "cell_type": "markdown",
   "id": "8288439a-1d62-4c1a-a78f-80c56afdedd8",
   "metadata": {},
   "source": [
    "**Rephrased Answer (Internet):**\n",
    "\n",
    "$$max{ (f(n), g(n)) } = \\theta{ (f(n) + g(n))}$$\n",
    "\n",
    "In order to prove the former, based on the definition of Theta(n) we are looking for a solution of the form:\n",
    "\n",
    "$$ 0 \\le c1{ (f(n) + g(n)) } \\le max{(f(n),g(n))} \\le c2{(f(n) + g(n))}$$\n",
    "\n",
    "We need to find c1 and c2 such that the above equation holds. For instance, for \n",
    "\n",
    "$$ c1 \\le 1/2 $$$$ c2 \\ge 1 $$\n",
    "\n",
    "$$max{(f(n),g(n))} \\le 1{(f(n)+g(n))}$$\n",
    "$$ max{(f(n),g(n))} \\ge \\frac{1}{2}*{(f(n)+g(n))}$$"
   ]
  },
  {
   "cell_type": "markdown",
   "id": "b85274bd-951f-4af0-a0a6-7b233fd8f97e",
   "metadata": {},
   "source": [
    "Note that\n",
    "\n",
    "$${f(n) + g(n)} \\ge max{(f(n),g(n))}$$"
   ]
  },
  {
   "cell_type": "markdown",
   "id": "76eff177-0332-4053-8079-c4ec5e1f89e2",
   "metadata": {},
   "source": [
    "$$ f(n) \\le max{(f(n), g(n))} $$\n",
    "$$ g(n) \\le max{(f(n), g(n))} $$"
   ]
  },
  {
   "cell_type": "markdown",
   "id": "bf99bf3f-dd6c-4ad5-95ce-1803b740538d",
   "metadata": {},
   "source": [
    "Therefore"
   ]
  },
  {
   "cell_type": "markdown",
   "id": "5538a6d7-7b31-4cf3-9684-d56f0d995fde",
   "metadata": {},
   "source": [
    "$$ 0 \\le \\frac{1}{2}*{(f(n)+g(n))} \\le max{(f(n),g(n))} \\le {(f(n)+g(n))} $$"
   ]
  },
  {
   "cell_type": "code",
   "execution_count": null,
   "id": "98a568f8-5cb5-4d88-9c47-763baffe7345",
   "metadata": {},
   "outputs": [],
   "source": []
  }
 ],
 "metadata": {
  "kernelspec": {
   "display_name": "Python 3",
   "language": "python",
   "name": "python3"
  },
  "language_info": {
   "codemirror_mode": {
    "name": "ipython",
    "version": 3
   },
   "file_extension": ".py",
   "mimetype": "text/x-python",
   "name": "python",
   "nbconvert_exporter": "python",
   "pygments_lexer": "ipython3",
   "version": "3.7.7"
  }
 },
 "nbformat": 4,
 "nbformat_minor": 5
}
