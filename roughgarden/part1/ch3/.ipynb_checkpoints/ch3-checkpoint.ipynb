{
 "cells": [
  {
   "cell_type": "markdown",
   "id": "8c9aefbd-6d95-4de0-96f9-877afad9add1",
   "metadata": {},
   "source": [
    "# Chapter 3 - Divide and Conquer"
   ]
  },
  {
   "cell_type": "markdown",
   "id": "91ea43a5-a92b-430d-a27a-ec371a06fdc8",
   "metadata": {},
   "source": [
    "### Brute-Force Search for Counting Inversions"
   ]
  },
  {
   "cell_type": "code",
   "execution_count": 4,
   "id": "38660a81-5d9d-41b3-85e0-816325f96887",
   "metadata": {},
   "outputs": [],
   "source": [
    "def countingInversions(array):\n",
    "    inversions = 0\n",
    "    for i in range(0,len(array) - 1):\n",
    "        for j in range(i+1,len(array)):\n",
    "            if array[j] < array[i]:\n",
    "                inversions = inversions + 1\n",
    "    return inversions"
   ]
  },
  {
   "cell_type": "code",
   "execution_count": 6,
   "id": "20885942-a529-4f09-af07-e1892e469058",
   "metadata": {},
   "outputs": [
    {
     "name": "stdout",
     "output_type": "stream",
     "text": [
      "12\n"
     ]
    }
   ],
   "source": [
    "n = countingInversions([7,3,5,2,4,1])\n",
    "print(n)"
   ]
  },
  {
   "cell_type": "markdown",
   "id": "e7fa5c2a-b416-4add-815b-66c03416018f",
   "metadata": {},
   "source": [
    "<b>Notes:</b> \n",
    "- the <b>range</b> function is not inclusive in the right side (i.e. <font color=\"blue\">for i in range(1,5)</font> prints: 1, 2, 3, 4)\n",
    "- when comparing if an element k + 1 is greater than its predecessor (i.e. k), we usually employ two for loops. The first one (k) to loop over the whole array, a second one to loop over what we aim to compare, k+1 in this case.\n",
    "- this algorithm has running time $ n^2 $."
   ]
  },
  {
   "cell_type": "markdown",
   "id": "8dfcc1a0-93db-42a5-aaf3-0fe712af055d",
   "metadata": {},
   "source": [
    "### Merge Sort for Counting Inversions"
   ]
  },
  {
   "cell_type": "markdown",
   "id": "e982d2f9-5455-4f93-ab2c-d56fa6955eba",
   "metadata": {},
   "source": [
    "<b>Rationale</b>: The idea behind this approach is to take advantage of the Merge Sort algorithm to answer the question: Can I do better than $n^2$ running time?."
   ]
  },
  {
   "cell_type": "markdown",
   "id": "e5be9470-2c0d-47d5-ba87-d4ded1edfd8b",
   "metadata": {},
   "source": [
    "The regular MergeSort algorithm serves as the basis for using Merge Sort to count inversions."
   ]
  },
  {
   "cell_type": "code",
   "execution_count": 15,
   "id": "b886fec9-6145-4d59-b7a2-be4337ff14ba",
   "metadata": {},
   "outputs": [],
   "source": [
    "def Merge(A, B):\n",
    "    result = []\n",
    "    k = 0 # A index\n",
    "    j = 0 # B index\n",
    "    n = len(A)+len(B) # length of result\n",
    "    for i in range(n):\n",
    "        if k == len(A):  \n",
    "            # if A is empty, append the rest of B to 'result'\n",
    "            result.append(B[j])\n",
    "            j = j + 1\n",
    "        elif j == len(B): \n",
    "            # if B is empty, append the rest of A to 'result'\n",
    "            result.append(A[k])\n",
    "            k = k + 1\n",
    "        elif A[k] < B[j]: \n",
    "            result.append(A[k])\n",
    "            k = k + 1\n",
    "        elif A[k] > B[j]:\n",
    "            result.append(B[j])\n",
    "            j = j + 1\n",
    "        #print(result)\n",
    "    return result"
   ]
  },
  {
   "cell_type": "code",
   "execution_count": 16,
   "id": "56924cd7-0295-4052-8aa1-01714979d024",
   "metadata": {},
   "outputs": [],
   "source": [
    "def MergeSort(array):\n",
    "    n = len(array)\n",
    "    if n == 1:\n",
    "        return array\n",
    "    else:\n",
    "        # Divide the array\n",
    "        half = int(n/2)\n",
    "        c = array[0:half]\n",
    "        d = array[half:]\n",
    "        # Recursive calls\n",
    "        x = MergeSort(c)\n",
    "        y = MergeSort(d)\n",
    "        # Merge\n",
    "        return Merge(x,y)\n"
   ]
  },
  {
   "cell_type": "code",
   "execution_count": 17,
   "id": "776ce8ef-6366-4dfe-b3e4-3c85b2b40b6f",
   "metadata": {},
   "outputs": [
    {
     "name": "stdout",
     "output_type": "stream",
     "text": [
      "[1, 3, 4, 5, 8]\n"
     ]
    }
   ],
   "source": [
    "A = [4,5,3,1,8]\n",
    "print(MergeSort(A))"
   ]
  },
  {
   "cell_type": "markdown",
   "id": "12c08090-1a42-455f-9247-83f01d064231",
   "metadata": {},
   "source": [
    "The key insight to use MergeSort to count inversions lies in having a variable that counts the inversions any time we copy an element from array D to the output array A. The counter will be increased by the number of elements remaining in array C at the moment when D is copied over to A."
   ]
  },
  {
   "cell_type": "code",
   "execution_count": 30,
   "id": "412ca0f0-46a5-4489-a480-bfe8f80bd47f",
   "metadata": {},
   "outputs": [],
   "source": [
    "def MergeCountSplitInversions(C, D):\n",
    "    result = []\n",
    "    i = 0 # C index\n",
    "    j = 0 # D index\n",
    "    inversions = 0 # counter\n",
    "    n = len(C) + len(D)\n",
    "    for k in range(n):\n",
    "        #print(\"i:\"+str(i))\n",
    "        if i == len(C):\n",
    "            j = j + 1\n",
    "        elif C[i] < D[j]:\n",
    "            result.append(C[i])\n",
    "            i = i + 1\n",
    "        else: # C[i] > D[j]\n",
    "            result.append(D[j])\n",
    "            j = j + 1\n",
    "            inversions = inversions + (len(C)-i) # len(C) - i yield the elements remaining in C\n",
    "    return result, inversions"
   ]
  },
  {
   "cell_type": "code",
   "execution_count": 31,
   "id": "80dbc4e1-0d24-4b44-b0ab-f0106502a56c",
   "metadata": {},
   "outputs": [
    {
     "name": "stdout",
     "output_type": "stream",
     "text": [
      "([1, 2, 3, 4, 5], 3)\n"
     ]
    }
   ],
   "source": [
    "C = [1,3,5]\n",
    "D = [2,4,6]\n",
    "print(MergeCountSplitInversions(C,D))"
   ]
  },
  {
   "cell_type": "code",
   "execution_count": null,
   "id": "2095d5b5-705e-46e2-9995-005c343dd8d9",
   "metadata": {},
   "outputs": [],
   "source": [
    "def SortAndCountInversions(A):\n",
    "    # Base case\n",
    "    n = len(A)\n",
    "    if n == 0 || n == 1:\n",
    "        return A, 0\n",
    "    # Recursive case\n",
    "    C, leftInversions = SortAndCountInversions\n",
    "    "
   ]
  }
 ],
 "metadata": {
  "kernelspec": {
   "display_name": "Python 3",
   "language": "python",
   "name": "python3"
  },
  "language_info": {
   "codemirror_mode": {
    "name": "ipython",
    "version": 3
   },
   "file_extension": ".py",
   "mimetype": "text/x-python",
   "name": "python",
   "nbconvert_exporter": "python",
   "pygments_lexer": "ipython3",
   "version": "3.7.7"
  }
 },
 "nbformat": 4,
 "nbformat_minor": 5
}
