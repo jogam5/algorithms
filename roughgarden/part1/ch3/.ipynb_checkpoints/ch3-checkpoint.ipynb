{
 "cells": [
  {
   "cell_type": "markdown",
   "id": "8c9aefbd-6d95-4de0-96f9-877afad9add1",
   "metadata": {},
   "source": [
    "# Chapter 3 - Divide and Conquer"
   ]
  },
  {
   "cell_type": "markdown",
   "id": "91ea43a5-a92b-430d-a27a-ec371a06fdc8",
   "metadata": {},
   "source": [
    "### Brute-Force Search for Counting Inversions"
   ]
  },
  {
   "cell_type": "code",
   "execution_count": 4,
   "id": "38660a81-5d9d-41b3-85e0-816325f96887",
   "metadata": {},
   "outputs": [],
   "source": [
    "def countingInversions(array):\n",
    "    inversions = 0\n",
    "    for i in range(0,len(array) - 1):\n",
    "        for j in range(i+1,len(array)):\n",
    "            if array[j] < array[i]:\n",
    "                inversions = inversions + 1\n",
    "    return inversions"
   ]
  },
  {
   "cell_type": "code",
   "execution_count": 6,
   "id": "20885942-a529-4f09-af07-e1892e469058",
   "metadata": {},
   "outputs": [
    {
     "name": "stdout",
     "output_type": "stream",
     "text": [
      "12\n"
     ]
    }
   ],
   "source": [
    "n = countingInversions([7,3,5,2,4,1])\n",
    "print(n)"
   ]
  },
  {
   "cell_type": "markdown",
   "id": "e7fa5c2a-b416-4add-815b-66c03416018f",
   "metadata": {},
   "source": [
    "<b>Notes:</b> \n",
    "- the <b>range</b> function is not inclusive in the right side (i.e. <font color=\"blue\">for i in range(1,5)</font> prints: 1, 2, 3, 4)\n",
    "- when comparing if an element k + 1 is greater than its predecessor (i.e. k), we usually employ two for loops. The first one (k) to loop over the whole array, a second one to loop over what we aim to compare, k+1 in this case.\n",
    "- this algorithm has running time $ n^2 $."
   ]
  },
  {
   "cell_type": "markdown",
   "id": "8dfcc1a0-93db-42a5-aaf3-0fe712af055d",
   "metadata": {},
   "source": [
    "### Merge Sort for Counting Inversions"
   ]
  },
  {
   "cell_type": "markdown",
   "id": "e982d2f9-5455-4f93-ab2c-d56fa6955eba",
   "metadata": {},
   "source": [
    "<b>Rationale</b>: The idea behind this approach is to take advantage of the Merge Sort algorithm to answer the question: Can I do better than $n^2$ running time?."
   ]
  },
  {
   "cell_type": "code",
   "execution_count": 65,
   "id": "b886fec9-6145-4d59-b7a2-be4337ff14ba",
   "metadata": {},
   "outputs": [],
   "source": [
    "def Merge(left, right):\n",
    "    C = []\n",
    "    i = 0\n",
    "    j = 0\n",
    "    for k in range(len(left)+len(right)):\n",
    "        if i == len(left):\n",
    "            C[k] = right[j]\n",
    "            #C.append(right[j])\n",
    "            j = j + 1\n",
    "        elif j == len(right):\n",
    "            C[k] = left[i]\n",
    "            i = i + 1\n",
    "        elif right[j] < left[i]:\n",
    "            C[k] = right[j]\n",
    "            j = j + 1\n",
    "        elif left[i] > right[j]:\n",
    "            C[k] = left[i]\n",
    "            i = i + 1\n",
    "    return C"
   ]
  },
  {
   "cell_type": "code",
   "execution_count": 66,
   "id": "56924cd7-0295-4052-8aa1-01714979d024",
   "metadata": {},
   "outputs": [],
   "source": [
    "def MergeSort(array):\n",
    "    # base case\n",
    "    if (len(array) == 1):\n",
    "        return array\n",
    "    # recursive case\n",
    "    else:\n",
    "        m = int(len(array)/2)\n",
    "        A = MergeSort(array[0:m])\n",
    "        B = MergeSort(array[m:])\n",
    "        return Merge(A,B)"
   ]
  },
  {
   "cell_type": "code",
   "execution_count": 67,
   "id": "776ce8ef-6366-4dfe-b3e4-3c85b2b40b6f",
   "metadata": {},
   "outputs": [
    {
     "ename": "IndexError",
     "evalue": "list assignment index out of range",
     "output_type": "error",
     "traceback": [
      "\u001b[0;31m---------------------------------------------------------------------------\u001b[0m",
      "\u001b[0;31mIndexError\u001b[0m                                Traceback (most recent call last)",
      "\u001b[0;32m<ipython-input-67-8c67366704c6>\u001b[0m in \u001b[0;36m<module>\u001b[0;34m\u001b[0m\n\u001b[0;32m----> 1\u001b[0;31m \u001b[0mr\u001b[0m \u001b[0;34m=\u001b[0m \u001b[0mMergeSort\u001b[0m\u001b[0;34m(\u001b[0m\u001b[0;34m[\u001b[0m\u001b[0;36m4\u001b[0m\u001b[0;34m,\u001b[0m\u001b[0;36m5\u001b[0m\u001b[0;34m,\u001b[0m\u001b[0;36m3\u001b[0m\u001b[0;34m,\u001b[0m\u001b[0;36m1\u001b[0m\u001b[0;34m,\u001b[0m\u001b[0;36m8\u001b[0m\u001b[0;34m]\u001b[0m\u001b[0;34m)\u001b[0m\u001b[0;34m\u001b[0m\u001b[0;34m\u001b[0m\u001b[0m\n\u001b[0m\u001b[1;32m      2\u001b[0m \u001b[0mprint\u001b[0m\u001b[0;34m(\u001b[0m\u001b[0mr\u001b[0m\u001b[0;34m)\u001b[0m\u001b[0;34m\u001b[0m\u001b[0;34m\u001b[0m\u001b[0m\n",
      "\u001b[0;32m<ipython-input-66-a8cc219aafba>\u001b[0m in \u001b[0;36mMergeSort\u001b[0;34m(array)\u001b[0m\n\u001b[1;32m      7\u001b[0m         \u001b[0mm\u001b[0m \u001b[0;34m=\u001b[0m \u001b[0mint\u001b[0m\u001b[0;34m(\u001b[0m\u001b[0mlen\u001b[0m\u001b[0;34m(\u001b[0m\u001b[0marray\u001b[0m\u001b[0;34m)\u001b[0m\u001b[0;34m/\u001b[0m\u001b[0;36m2\u001b[0m\u001b[0;34m)\u001b[0m\u001b[0;34m\u001b[0m\u001b[0;34m\u001b[0m\u001b[0m\n\u001b[1;32m      8\u001b[0m         \u001b[0mA\u001b[0m \u001b[0;34m=\u001b[0m \u001b[0mMergeSort\u001b[0m\u001b[0;34m(\u001b[0m\u001b[0marray\u001b[0m\u001b[0;34m[\u001b[0m\u001b[0;36m0\u001b[0m\u001b[0;34m:\u001b[0m\u001b[0mm\u001b[0m\u001b[0;34m]\u001b[0m\u001b[0;34m)\u001b[0m\u001b[0;34m\u001b[0m\u001b[0;34m\u001b[0m\u001b[0m\n\u001b[0;32m----> 9\u001b[0;31m         \u001b[0mB\u001b[0m \u001b[0;34m=\u001b[0m \u001b[0mMergeSort\u001b[0m\u001b[0;34m(\u001b[0m\u001b[0marray\u001b[0m\u001b[0;34m[\u001b[0m\u001b[0mm\u001b[0m\u001b[0;34m:\u001b[0m\u001b[0;34m]\u001b[0m\u001b[0;34m)\u001b[0m\u001b[0;34m\u001b[0m\u001b[0;34m\u001b[0m\u001b[0m\n\u001b[0m\u001b[1;32m     10\u001b[0m         \u001b[0;32mreturn\u001b[0m \u001b[0mMerge\u001b[0m\u001b[0;34m(\u001b[0m\u001b[0mA\u001b[0m\u001b[0;34m,\u001b[0m\u001b[0mB\u001b[0m\u001b[0;34m)\u001b[0m\u001b[0;34m\u001b[0m\u001b[0;34m\u001b[0m\u001b[0m\n",
      "\u001b[0;32m<ipython-input-66-a8cc219aafba>\u001b[0m in \u001b[0;36mMergeSort\u001b[0;34m(array)\u001b[0m\n\u001b[1;32m      8\u001b[0m         \u001b[0mA\u001b[0m \u001b[0;34m=\u001b[0m \u001b[0mMergeSort\u001b[0m\u001b[0;34m(\u001b[0m\u001b[0marray\u001b[0m\u001b[0;34m[\u001b[0m\u001b[0;36m0\u001b[0m\u001b[0;34m:\u001b[0m\u001b[0mm\u001b[0m\u001b[0;34m]\u001b[0m\u001b[0;34m)\u001b[0m\u001b[0;34m\u001b[0m\u001b[0;34m\u001b[0m\u001b[0m\n\u001b[1;32m      9\u001b[0m         \u001b[0mB\u001b[0m \u001b[0;34m=\u001b[0m \u001b[0mMergeSort\u001b[0m\u001b[0;34m(\u001b[0m\u001b[0marray\u001b[0m\u001b[0;34m[\u001b[0m\u001b[0mm\u001b[0m\u001b[0;34m:\u001b[0m\u001b[0;34m]\u001b[0m\u001b[0;34m)\u001b[0m\u001b[0;34m\u001b[0m\u001b[0;34m\u001b[0m\u001b[0m\n\u001b[0;32m---> 10\u001b[0;31m         \u001b[0;32mreturn\u001b[0m \u001b[0mMerge\u001b[0m\u001b[0;34m(\u001b[0m\u001b[0mA\u001b[0m\u001b[0;34m,\u001b[0m\u001b[0mB\u001b[0m\u001b[0;34m)\u001b[0m\u001b[0;34m\u001b[0m\u001b[0;34m\u001b[0m\u001b[0m\n\u001b[0m",
      "\u001b[0;32m<ipython-input-65-6520639a345a>\u001b[0m in \u001b[0;36mMerge\u001b[0;34m(left, right)\u001b[0m\n\u001b[1;32m      9\u001b[0m             \u001b[0mj\u001b[0m \u001b[0;34m=\u001b[0m \u001b[0mj\u001b[0m \u001b[0;34m+\u001b[0m \u001b[0;36m1\u001b[0m\u001b[0;34m\u001b[0m\u001b[0;34m\u001b[0m\u001b[0m\n\u001b[1;32m     10\u001b[0m         \u001b[0;32melif\u001b[0m \u001b[0mj\u001b[0m \u001b[0;34m==\u001b[0m \u001b[0mlen\u001b[0m\u001b[0;34m(\u001b[0m\u001b[0mright\u001b[0m\u001b[0;34m)\u001b[0m\u001b[0;34m:\u001b[0m\u001b[0;34m\u001b[0m\u001b[0;34m\u001b[0m\u001b[0m\n\u001b[0;32m---> 11\u001b[0;31m             \u001b[0mC\u001b[0m\u001b[0;34m[\u001b[0m\u001b[0mk\u001b[0m\u001b[0;34m]\u001b[0m \u001b[0;34m=\u001b[0m \u001b[0mleft\u001b[0m\u001b[0;34m[\u001b[0m\u001b[0mi\u001b[0m\u001b[0;34m]\u001b[0m\u001b[0;34m\u001b[0m\u001b[0;34m\u001b[0m\u001b[0m\n\u001b[0m\u001b[1;32m     12\u001b[0m             \u001b[0mi\u001b[0m \u001b[0;34m=\u001b[0m \u001b[0mi\u001b[0m \u001b[0;34m+\u001b[0m \u001b[0;36m1\u001b[0m\u001b[0;34m\u001b[0m\u001b[0;34m\u001b[0m\u001b[0m\n\u001b[1;32m     13\u001b[0m         \u001b[0;32melif\u001b[0m \u001b[0mright\u001b[0m\u001b[0;34m[\u001b[0m\u001b[0mj\u001b[0m\u001b[0;34m]\u001b[0m \u001b[0;34m<\u001b[0m \u001b[0mleft\u001b[0m\u001b[0;34m[\u001b[0m\u001b[0mi\u001b[0m\u001b[0;34m]\u001b[0m\u001b[0;34m:\u001b[0m\u001b[0;34m\u001b[0m\u001b[0;34m\u001b[0m\u001b[0m\n",
      "\u001b[0;31mIndexError\u001b[0m: list assignment index out of range"
     ]
    }
   ],
   "source": [
    "r = MergeSort([4,5,3,1,8])\n",
    "print(r)"
   ]
  },
  {
   "cell_type": "code",
   "execution_count": null,
   "id": "ea1addba-5a3a-4c26-837d-fa7d976bfc18",
   "metadata": {},
   "outputs": [],
   "source": []
  }
 ],
 "metadata": {
  "kernelspec": {
   "display_name": "Python 3",
   "language": "python",
   "name": "python3"
  },
  "language_info": {
   "codemirror_mode": {
    "name": "ipython",
    "version": 3
   },
   "file_extension": ".py",
   "mimetype": "text/x-python",
   "name": "python",
   "nbconvert_exporter": "python",
   "pygments_lexer": "ipython3",
   "version": "3.7.7"
  }
 },
 "nbformat": 4,
 "nbformat_minor": 5
}
