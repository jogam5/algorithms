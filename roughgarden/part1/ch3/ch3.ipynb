{
 "cells": [
  {
   "cell_type": "markdown",
   "id": "8c9aefbd-6d95-4de0-96f9-877afad9add1",
   "metadata": {},
   "source": [
    "# Chapter 3 - Divide and Conquer"
   ]
  },
  {
   "cell_type": "markdown",
   "id": "91ea43a5-a92b-430d-a27a-ec371a06fdc8",
   "metadata": {},
   "source": [
    "### Brute-Force Search for Counting Inversions"
   ]
  },
  {
   "cell_type": "code",
   "execution_count": 4,
   "id": "38660a81-5d9d-41b3-85e0-816325f96887",
   "metadata": {},
   "outputs": [],
   "source": [
    "def countingInversions(array):\n",
    "    inversions = 0\n",
    "    for i in range(0,len(array) - 1):\n",
    "        for j in range(i+1,len(array)):\n",
    "            if array[j] < array[i]:\n",
    "                inversions = inversions + 1\n",
    "    return inversions"
   ]
  },
  {
   "cell_type": "code",
   "execution_count": 6,
   "id": "20885942-a529-4f09-af07-e1892e469058",
   "metadata": {},
   "outputs": [
    {
     "name": "stdout",
     "output_type": "stream",
     "text": [
      "12\n"
     ]
    }
   ],
   "source": [
    "n = countingInversions([7,3,5,2,4,1])\n",
    "print(n)"
   ]
  },
  {
   "cell_type": "markdown",
   "id": "e7fa5c2a-b416-4add-815b-66c03416018f",
   "metadata": {},
   "source": [
    "<b>Notes:</b> \n",
    "- the <b>range</b> function is not inclusive in the right side (i.e. <font color=\"blue\">for i in range(1,5)</font> prints: 1, 2, 3, 4)\n",
    "- when comparing if an element k + 1 is greater than its predecessor (i.e. k), we usually employ two for loops. The first one (k) to loop over the whole array, a second one to loop over what we aim to compare, k+1 in this case.\n",
    "- this algorithm has running time $ n^2 $."
   ]
  },
  {
   "cell_type": "markdown",
   "id": "8dfcc1a0-93db-42a5-aaf3-0fe712af055d",
   "metadata": {},
   "source": [
    "### Merge Sort for Counting Inversions"
   ]
  },
  {
   "cell_type": "markdown",
   "id": "e982d2f9-5455-4f93-ab2c-d56fa6955eba",
   "metadata": {},
   "source": [
    "<b>Rationale</b>: The idea behind this approach is to take advantage of the Merge Sort algorithm to answer the question: Can I do better than $n^2$ running time?."
   ]
  },
  {
   "cell_type": "markdown",
   "id": "e5be9470-2c0d-47d5-ba87-d4ded1edfd8b",
   "metadata": {},
   "source": [
    "The regular MergeSort algorithm serves as the basis for using Merge Sort to count inversions."
   ]
  },
  {
   "cell_type": "code",
   "execution_count": 15,
   "id": "b886fec9-6145-4d59-b7a2-be4337ff14ba",
   "metadata": {},
   "outputs": [],
   "source": [
    "def Merge(A, B):\n",
    "    result = []\n",
    "    k = 0 # A index\n",
    "    j = 0 # B index\n",
    "    n = len(A)+len(B) # length of result\n",
    "    for i in range(n):\n",
    "        if k == len(A):  \n",
    "            # if A is empty, append the rest of B to 'result'\n",
    "            result.append(B[j])\n",
    "            j = j + 1\n",
    "        elif j == len(B): \n",
    "            # if B is empty, append the rest of A to 'result'\n",
    "            result.append(A[k])\n",
    "            k = k + 1\n",
    "        elif A[k] < B[j]: \n",
    "            result.append(A[k])\n",
    "            k = k + 1\n",
    "        elif A[k] > B[j]:\n",
    "            result.append(B[j])\n",
    "            j = j + 1\n",
    "        #print(result)\n",
    "    return result"
   ]
  },
  {
   "cell_type": "code",
   "execution_count": 16,
   "id": "56924cd7-0295-4052-8aa1-01714979d024",
   "metadata": {},
   "outputs": [],
   "source": [
    "def MergeSort(array):\n",
    "    n = len(array)\n",
    "    if n == 1:\n",
    "        return array\n",
    "    else:\n",
    "        # Divide the array\n",
    "        half = int(n/2)\n",
    "        c = array[0:half]\n",
    "        d = array[half:]\n",
    "        # Recursive calls\n",
    "        x = MergeSort(c)\n",
    "        y = MergeSort(d)\n",
    "        # Merge\n",
    "        return Merge(x,y)\n"
   ]
  },
  {
   "cell_type": "code",
   "execution_count": 17,
   "id": "776ce8ef-6366-4dfe-b3e4-3c85b2b40b6f",
   "metadata": {},
   "outputs": [
    {
     "name": "stdout",
     "output_type": "stream",
     "text": [
      "[1, 3, 4, 5, 8]\n"
     ]
    }
   ],
   "source": [
    "A = [4,5,3,1,8]\n",
    "print(MergeSort(A))"
   ]
  },
  {
   "cell_type": "markdown",
   "id": "12c08090-1a42-455f-9247-83f01d064231",
   "metadata": {},
   "source": [
    "The key insight to use MergeSort to count inversions lies in having a variable that counts the inversions any time we copy an element from array D to the output array A. The counter will be increased by the number of elements remaining in array C at the moment when D is copied over to A."
   ]
  },
  {
   "cell_type": "code",
   "execution_count": 167,
   "id": "412ca0f0-46a5-4489-a480-bfe8f80bd47f",
   "metadata": {},
   "outputs": [],
   "source": [
    "def MergeCountSplitInversions(C, D):\n",
    "    result = []\n",
    "    i = 0 # C index\n",
    "    j = 0 # D index\n",
    "    inversions = 0 # counter\n",
    "    n = len(C) + len(D)\n",
    "    for k in range(n):\n",
    "        #print(\"i:\"+str(i))\n",
    "        if i == len(C):\n",
    "            result.append(D[j]) # made a mistake of ignoring to append D to result\n",
    "            j = j + 1\n",
    "        elif j == len(D):\n",
    "            result.append(C[i])\n",
    "            i = i + 1\n",
    "        elif C[i] <= D[j]: # made a mistake of not considering \"equal to\"\n",
    "            result.append(C[i])\n",
    "            i = i + 1\n",
    "        else: # C[i] > D[j]\n",
    "            result.append(D[j])\n",
    "            j = j + 1\n",
    "            inversions = inversions + (len(C)-i) # len(C) - i yield the elements remaining in C\n",
    "    return (result, inversions)"
   ]
  },
  {
   "cell_type": "code",
   "execution_count": 168,
   "id": "80dbc4e1-0d24-4b44-b0ab-f0106502a56c",
   "metadata": {},
   "outputs": [
    {
     "name": "stdout",
     "output_type": "stream",
     "text": [
      "([1, 2, 3, 4, 5, 6], 3)\n"
     ]
    }
   ],
   "source": [
    "C = [1,3,5]\n",
    "D = [2,4,6]\n",
    "print(MergeCountSplitInversions(C,D))"
   ]
  },
  {
   "cell_type": "code",
   "execution_count": 169,
   "id": "2095d5b5-705e-46e2-9995-005c343dd8d9",
   "metadata": {},
   "outputs": [],
   "source": [
    "def SortAndCountInversions(A):\n",
    "    # Base case\n",
    "    n = len(A)\n",
    "    if n == 1:\n",
    "        return A, 0\n",
    "    # Recursive case\n",
    "    else:\n",
    "        half = int(n/2)\n",
    "        C, leftInv = SortAndCountInversions(A[:half])\n",
    "        D, rightInv = SortAndCountInversions(A[half:])\n",
    "        B, splitInv = MergeCountSplitInversions(C,D)\n",
    "        return B, (leftInv + rightInv + splitInv)"
   ]
  },
  {
   "cell_type": "code",
   "execution_count": 170,
   "id": "4e5fd0f3-19ff-4a3e-b8dd-db7effbaff4f",
   "metadata": {},
   "outputs": [
    {
     "name": "stdout",
     "output_type": "stream",
     "text": [
      "([2, 3, 4], 3)\n",
      "([1, 2, 3, 4, 5, 6, 6, 10, 12, 12, 23, 24, 33, 54], 25)\n",
      "([1, 2, 3, 4, 5, 6], 15)\n",
      "([1, 2, 3, 4, 5, 6, 7, 8], 28)\n",
      "([1, 2, 4, 8], 6)\n",
      "([1, 1, 2, 3, 4, 9], 8)\n"
     ]
    }
   ],
   "source": [
    "A = [4,3,2]\n",
    "print(SortAndCountInversions(A))\n",
    "\n",
    "A = [4, 3, 2, 10, 12, 1, 5, 6, 24, 33, 23,54, 12, 6 ]\n",
    "print(SortAndCountInversions(A))\n",
    "\n",
    "A = [6,5,4,3,2,1]\n",
    "print(SortAndCountInversions(A))\n",
    "\n",
    "A = [ 8, 7, 6, 5, 4, 3 ,2, 1 ]\n",
    "print(SortAndCountInversions(A))\n",
    "\n",
    "A = [8, 4, 2, 1]\n",
    "print(SortAndCountInversions(A))\n",
    "\n",
    "A = [4, 1, 3, 2, 9, 1]\n",
    "print(SortAndCountInversions(A))"
   ]
  },
  {
   "cell_type": "code",
   "execution_count": 118,
   "id": "4f4ef974-2dd1-4c82-9c98-e9ca6fa7a6c6",
   "metadata": {},
   "outputs": [],
   "source": [
    "# Open a file in python\n",
    "f = open(\"problem3.5test.txt\", \"r\") # 'r' means open a file for reading, other options are 'w' writing"
   ]
  },
  {
   "cell_type": "code",
   "execution_count": 179,
   "id": "faf51fdd-31e8-4ab9-8a58-fee43c933e98",
   "metadata": {},
   "outputs": [
    {
     "name": "stdout",
     "output_type": "stream",
     "text": [
      "original:  54044 | inversions:  5\n",
      "original:  14108 | inversions:  4\n",
      "original:  79294 | inversions:  5\n",
      "original:  29649 | inversions:  3\n",
      "original:  25260 | inversions:  5\n",
      "original:  60660 | inversions:  4\n",
      "original:  2995 | inversions:  2\n",
      "original:  53777 | inversions:  1\n",
      "original:  49689 | inversions:  2\n",
      "original:  9083 | inversions:  4\n",
      "Total number of inversions:  35\n"
     ]
    }
   ],
   "source": [
    "# Test Case\n",
    "with open(\"problem3.5test.txt\", \"r\") as f:\n",
    "    lines = f.readlines()\n",
    "\n",
    "lines = [line.replace('\\n','') for line in lines] # remove new line character\n",
    "\n",
    "Z = []\n",
    "inversions = 0\n",
    "for line in lines:\n",
    "\n",
    "    A = [int(line[i]) for i in range(0, len(line))] # create array of integers from a string line\n",
    "    n = SortAndCountInversions(A)[1]\n",
    "    print(\"original: \", line, \"| inversions: \", n)\n",
    "    inversions = inversions + n\n",
    "print(\"Total number of inversions: \", inversions)"
   ]
  },
  {
   "cell_type": "code",
   "execution_count": 180,
   "id": "b174e367-704c-4e15-9860-cef83824b78e",
   "metadata": {},
   "outputs": [
    {
     "name": "stdout",
     "output_type": "stream",
     "text": [
      "Total number of inversions:  450005\n"
     ]
    }
   ],
   "source": [
    "# Challenge Set\n",
    "with open(\"problem3.5.txt\", \"r\") as f:\n",
    "    lines = f.readlines()\n",
    "\n",
    "lines = [line.replace('\\n','') for line in lines] # remove new line character\n",
    "\n",
    "Z = []\n",
    "inversions = 0\n",
    "for line in lines:\n",
    "    #print(\"original: \", line)\n",
    "    A = [int(line[i]) for i in range(0, len(line))] # create array of integers from a string line\n",
    "    n = SortAndCountInversions(A)[1]\n",
    "    inversions = inversions + n\n",
    "\n",
    "print(\"Total number of inversions: \", inversions)"
   ]
  },
  {
   "cell_type": "markdown",
   "id": "5d00ca13-a18a-4b1e-9662-1efadb7dadf1",
   "metadata": {},
   "source": [
    "### Problem 3.2 Unimodal algorithm"
   ]
  },
  {
   "cell_type": "code",
   "execution_count": 10,
   "id": "b65449e2-41f9-41f2-a255-61e8178a0357",
   "metadata": {},
   "outputs": [],
   "source": [
    "# Unimodal version 1\n",
    "def unimodalV1(A):\n",
    "    n = len(A)\n",
    "    if n == 0 or n == 1:\n",
    "        return A\n",
    "    if n % 2 == 1:\n",
    "        return A[int(n/2)]\n",
    "    else:\n",
    "        if A[int(n/2)] >= A[int(n/2)+1]:\n",
    "            return A[int(n/2)]\n",
    "        else:\n",
    "            return A[int(n/2)+1]\n",
    "# Error: the array A = [1, 3, 4, 5, 7, 8, 10, 12, 13, 14, 11, 9, 6, 2] \n",
    "# does not find the maximum element, it fails to identify if the maxixum\n",
    "# element is not around the middle"
   ]
  },
  {
   "cell_type": "code",
   "execution_count": 11,
   "id": "43561ba7-3b8c-40f2-8354-0f141f8c29b3",
   "metadata": {},
   "outputs": [
    {
     "name": "stdout",
     "output_type": "stream",
     "text": [
      "7\n",
      "11\n",
      "13\n"
     ]
    }
   ],
   "source": [
    "A = [1,3,5,7,6,4,2]\n",
    "print(unimodalV1(A))\n",
    "A = [5, 7, 11, 11, 2, 1]\n",
    "print(unimodalV1(A))\n",
    "A = [1, 3, 4, 5, 7, 8, 10, 12, 13, 14, 11, 9, 6, 2]\n",
    "print(unimodalV1(A))"
   ]
  },
  {
   "cell_type": "code",
   "execution_count": 11,
   "id": "f0251f93-957e-4dea-b659-a0afde546e74",
   "metadata": {},
   "outputs": [],
   "source": [
    "# Unimodal version 2\n",
    "# x = n/2\n",
    "# if x > left side then keep searching for MAX on the right side\n",
    "# if x > right side then keep searching for MAX on the left side\n",
    "def unimodalV2(A):\n",
    "    n = len(A)\n",
    "    \n",
    "    midpoint = int(n/2)\n",
    "    # ODD:  A = [1,2,3] -> midpoint = 2\n",
    "    # EVEN: A = [1, 2, 3, 4] -> midpoint = 3\n",
    "    \n",
    "    if n == 0 or n == 1:\n",
    "        return A\n",
    "    if n == 2:\n",
    "        if A[midpoint] > A[midpoint-1]:\n",
    "            return A[midpoint]\n",
    "        else:\n",
    "            return A[midpoint-1]\n",
    "    if A[midpoint] > A[midpoint-1]:\n",
    "        # Search on the right side for the MAX\n",
    "        return unimodalV2(A[midpoint:])\n",
    "    elif A[midpoint] > A[midpoint+1]:\n",
    "        # Search on the left side for the MAX\n",
    "        return unimodalV2(A[:midpoint+1])"
   ]
  },
  {
   "cell_type": "code",
   "execution_count": 12,
   "id": "2f7d09f3-c33b-4559-a8c3-48c9c2aab244",
   "metadata": {},
   "outputs": [
    {
     "name": "stdout",
     "output_type": "stream",
     "text": [
      "7\n",
      "11\n",
      "14\n"
     ]
    }
   ],
   "source": [
    "A = [1,3,5,7,6,4,2]\n",
    "print(unimodalV2(A))\n",
    "A = [5, 7, 11, 11, 2, 1]\n",
    "print(unimodalV2(A))\n",
    "A = [1, 3, 4, 5, 7, 8, 10, 12, 13, 14, 11, 9, 6, 2]\n",
    "print(unimodalV2(A))"
   ]
  },
  {
   "cell_type": "markdown",
   "id": "e27068ee-8f66-465b-b1ee-1d91301ed74f",
   "metadata": {},
   "source": [
    "**Note:** on Array[mid:], **:** includes the last element of the array as shown below."
   ]
  },
  {
   "cell_type": "code",
   "execution_count": 10,
   "id": "c3b85a91-99a9-4f55-bb03-c36f06bec360",
   "metadata": {},
   "outputs": [
    {
     "name": "stdout",
     "output_type": "stream",
     "text": [
      "mid, index: 7\n",
      "[12, 13, 14, 11, 9, 6, 2]\n",
      "[]\n"
     ]
    }
   ],
   "source": [
    "n = len(A)\n",
    "mid = int(n/2)\n",
    "print(\"mid, index:\",mid)\n",
    "print(A[mid:]) # : includes the last element of the array\n",
    "print(A[mid:+1])"
   ]
  },
  {
   "cell_type": "code",
   "execution_count": 16,
   "id": "14b899af-c346-4013-acdb-29646f8c8806",
   "metadata": {},
   "outputs": [],
   "source": [
    "'''\n",
    "Problem 3.5 \n",
    "\n",
    "Unimodal(list A)\n",
    "Input: unimodal array of n distinct elements\n",
    "Ouput: maximum element of the array in O(logn) running time.\n",
    "---\n",
    "\n",
    "Insight:\n",
    "Use a similar approach to other divide-and-conquer algorithms such\n",
    "as Binary Search. Since the expected running time is O(logn), we\n",
    "can infer that the solution must be recursive and that the input n\n",
    "should be reduced in each recursion. In this case n is halved.\n",
    "\n",
    "V1 and V2 of this problem reflect the evolution of the solution. In\n",
    "particular V1 wrongly assumed that the array would always include the\n",
    "maximum element around the middle, whereas V2 has some redundant lines.\n",
    "\n",
    "'''\n",
    "def unimodal(A):\n",
    "    n = len(A)\n",
    "    \n",
    "    midpoint = int(n/2)\n",
    "    # ODD:  A = [1,2,3] -> midpoint = 2\n",
    "    # EVEN: A = [1, 2, 3, 4] -> midpoint = 3\n",
    "    \n",
    "    if n == 0 or n == 1:\n",
    "        return A\n",
    "    if A[midpoint] > A[midpoint-1]:\n",
    "        # Search on the right side for the MAX\n",
    "        if A[midpoint] > A[midpoint+1]:\n",
    "            return A[midpoint]\n",
    "        else:\n",
    "            return unimodalV2(A[midpoint:])\n",
    "    else:\n",
    "        # Search on the left side for the MAX\n",
    "        return unimodalV2(A[:midpoint+1])"
   ]
  },
  {
   "cell_type": "code",
   "execution_count": 18,
   "id": "9f618fe3-1212-4618-af88-39a87b318713",
   "metadata": {},
   "outputs": [
    {
     "name": "stdout",
     "output_type": "stream",
     "text": [
      "7\n",
      "11\n",
      "14\n"
     ]
    }
   ],
   "source": [
    "A = [1,3,5,7,6,4,2]\n",
    "print(unimodal(A))\n",
    "A = [5, 7, 11, 11, 2, 1]\n",
    "print(unimodal(A))\n",
    "A = [1, 3, 4, 5, 7, 8, 10, 12, 13, 14, 11, 9, 6, 2]\n",
    "print(unimodal(A))"
   ]
  },
  {
   "cell_type": "markdown",
   "id": "ed30b402-86e2-4428-9e25-4fbc83f54926",
   "metadata": {},
   "source": [
    "### Problem 3.3"
   ]
  },
  {
   "cell_type": "code",
   "execution_count": 23,
   "id": "29415a43-3ea0-468a-b432-0b417fef5717",
   "metadata": {},
   "outputs": [],
   "source": [
    "\"\"\"\"\n",
    "Problem 3.3, Version 1\n",
    "\n",
    "Input: Array A of n distinct integers which can be positive, negative or zero\n",
    "Output: Return True if there is an index i such that A[i] = i, return False otherwise.\n",
    "\"\"\"\"\"\n",
    "def isIndex(A):\n",
    "    n = len(A)\n",
    "    midpoint = int(n/2)\n",
    "    if n == 1:\n",
    "        value = A[0] # base case value in the array, value = 0, or value = 1, value = 2\n",
    "        # Check if value corresponds to the index i in the original array\n",
    "        \n",
    "        return A[0] == i\n",
    "    else:\n",
    "        isIndex(A[0:midpoint])\n",
    "        isIndex(A[midpoint+1:])\n",
    "    return False"
   ]
  },
  {
   "cell_type": "code",
   "execution_count": 1,
   "id": "d150eade-15ff-44da-9027-1bc4f4624c8e",
   "metadata": {},
   "outputs": [],
   "source": [
    "A = [0, 1, 2, 3]\n",
    "#print(isIndex(A))"
   ]
  },
  {
   "cell_type": "code",
   "execution_count": 21,
   "id": "f723e66d-d38d-48ef-80ba-ac1ee76d4e9e",
   "metadata": {},
   "outputs": [],
   "source": [
    "\"\"\"\"\n",
    "Problem 3.3, Version 2\n",
    "\n",
    "Input: Array A of n distinct integers which can be positive, negative or zero\n",
    "Output: Return True if there is an index i such that A[i] = i, return False otherwise.\n",
    "\n",
    "Insight\n",
    "------------\n",
    "I recalled solutions of binary search where two indices low and high were used\n",
    "for splitting the array. It ocurred to me that probably I could use this technique \n",
    "to carry over the indexes until the recursion arrived to the base case. Also in the \n",
    "recursive case I used a technique I previously employed in a backtracking problem \n",
    "where the short-circuit operator \"OR\" is used to evaluate a solution.\n",
    "\n",
    "In the recursive case:\n",
    "    return False or True -> True\n",
    "    return False or False -> False\n",
    "    return True or  --- -> True*\n",
    "    \n",
    "* In the last case, there is no need to compute the right branch because regardless of the output\n",
    "the result will be True.\n",
    "\n",
    "Explanation\n",
    "-------------\n",
    "A divide-and-conquer strategy is used to divide the array in subarrays by halving  it in two\n",
    "using a midpoint. The goal is to recursively keep dividng the array in two until there is\n",
    "a single element left in each of the two branches.\n",
    "\n",
    "When a single element is found by comparing the low and the midpoint indexes, the evaluation of\n",
    "A[i] = i takes place for the left and the right branches. As long as one of the two branches is True,\n",
    "the program ends.\n",
    "\n",
    "--------------\n",
    "Running time: O(logN)\n",
    "\"\"\"\"\"\n",
    "def isIndex(A, low, high):\n",
    "    midpoint = int( (low + high)/2 )\n",
    "    if low == midpoint:\n",
    "        print(\"Left-> low: %d, A[low]: %d. Right-> high: %d, A[high]: %d\" % (low, A[low], high, A[high]))\n",
    "        return low == A[low] or high == A[high]\n",
    "    else:\n",
    "        return isIndex(A, low, midpoint-1) or isIndex(A, midpoint, len(A)-1)"
   ]
  },
  {
   "cell_type": "code",
   "execution_count": 22,
   "id": "ab3b114a-526a-4aa0-b8d3-c0760720f7a6",
   "metadata": {},
   "outputs": [
    {
     "name": "stdout",
     "output_type": "stream",
     "text": [
      "Left-> low: 0, A[low]: 0. Right-> high: 1, A[high]: 1\n",
      "True\n",
      "------\n",
      "Left-> low: 0, A[low]: -1. Right-> high: 0, A[high]: -1\n",
      "Left-> low: 1, A[low]: 0. Right-> high: 2, A[high]: 1\n",
      "Left-> low: 3, A[low]: 8. Right-> high: 3, A[high]: 8\n",
      "Left-> low: 4, A[low]: 9. Right-> high: 4, A[high]: 9\n",
      "Left-> low: 5, A[low]: 10. Right-> high: 6, A[high]: 1\n",
      "Left-> low: 3, A[low]: 8. Right-> high: 3, A[high]: 8\n",
      "Left-> low: 4, A[low]: 9. Right-> high: 4, A[high]: 9\n",
      "Left-> low: 5, A[low]: 10. Right-> high: 6, A[high]: 1\n",
      "False\n",
      "------\n",
      "Left-> low: 0, A[low]: -1. Right-> high: 0, A[high]: -1\n",
      "Left-> low: 1, A[low]: 0. Right-> high: 2, A[high]: 1\n",
      "Left-> low: 3, A[low]: 3. Right-> high: 3, A[high]: 3\n",
      "True\n",
      "------\n"
     ]
    }
   ],
   "source": [
    "A = [0, 1, 3, 5]\n",
    "print(isIndex(A, 0, len(A)))\n",
    "print(\"------\")\n",
    "\n",
    "A = [-1, 0, 1, 8, 9, 10, 1]\n",
    "print(isIndex(A, 0, len(A)))\n",
    "print(\"------\")\n",
    "\n",
    "A = [-1, 0, 1, 3, 9, 10]\n",
    "print(isIndex(A, 0, len(A)))\n",
    "print(\"------\")"
   ]
  },
  {
   "cell_type": "code",
   "execution_count": null,
   "id": "7d4e9a94-e401-4e0f-8df1-d1266dce4324",
   "metadata": {},
   "outputs": [],
   "source": []
  }
 ],
 "metadata": {
  "kernelspec": {
   "display_name": "Python 3",
   "language": "python",
   "name": "python3"
  },
  "language_info": {
   "codemirror_mode": {
    "name": "ipython",
    "version": 3
   },
   "file_extension": ".py",
   "mimetype": "text/x-python",
   "name": "python",
   "nbconvert_exporter": "python",
   "pygments_lexer": "ipython3",
   "version": "3.7.7"
  }
 },
 "nbformat": 4,
 "nbformat_minor": 5
}
